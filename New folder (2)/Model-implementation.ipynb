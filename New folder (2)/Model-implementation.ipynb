{
 "cells": [
  {
   "cell_type": "code",
   "execution_count": 1,
   "metadata": {},
   "outputs": [],
   "source": [
    "from sklearn.svm import SVC\n",
    "from sklearn.model_selection import train_test_split\n",
    "import numpy as np\n",
    "import pandas as pd\n",
    "from sklearn.model_selection import GridSearchCV\n",
    "from sklearn.ensemble import RandomForestClassifier\n",
    "import seaborn as sns\n",
    "import matplotlib.pyplot as plt\n",
    "from sklearn.preprocessing import StandardScaler\n",
    "from sklearn.metrics import f1_score\n",
    "from sklearn.metrics import precision_recall_fscore_support\n",
    "%matplotlib inline"
   ]
  },
  {
   "cell_type": "code",
   "execution_count": 2,
   "metadata": {},
   "outputs": [
    {
     "data": {
      "text/html": [
       "<div>\n",
       "<style scoped>\n",
       "    .dataframe tbody tr th:only-of-type {\n",
       "        vertical-align: middle;\n",
       "    }\n",
       "\n",
       "    .dataframe tbody tr th {\n",
       "        vertical-align: top;\n",
       "    }\n",
       "\n",
       "    .dataframe thead th {\n",
       "        text-align: right;\n",
       "    }\n",
       "</style>\n",
       "<table border=\"1\" class=\"dataframe\">\n",
       "  <thead>\n",
       "    <tr style=\"text-align: right;\">\n",
       "      <th></th>\n",
       "      <th>Language_vocab</th>\n",
       "      <th>Memory</th>\n",
       "      <th>Speed</th>\n",
       "      <th>Visual_discrimination</th>\n",
       "      <th>Audio_Discrimination</th>\n",
       "      <th>Survey_Score</th>\n",
       "      <th>Label</th>\n",
       "    </tr>\n",
       "  </thead>\n",
       "  <tbody>\n",
       "    <tr>\n",
       "      <th>0</th>\n",
       "      <td>0.5</td>\n",
       "      <td>0.6</td>\n",
       "      <td>0.5</td>\n",
       "      <td>0.8</td>\n",
       "      <td>0.6</td>\n",
       "      <td>0.7</td>\n",
       "      <td>1.0</td>\n",
       "    </tr>\n",
       "    <tr>\n",
       "      <th>1</th>\n",
       "      <td>0.6</td>\n",
       "      <td>0.7</td>\n",
       "      <td>0.8</td>\n",
       "      <td>0.9</td>\n",
       "      <td>0.5</td>\n",
       "      <td>0.8</td>\n",
       "      <td>2.0</td>\n",
       "    </tr>\n",
       "    <tr>\n",
       "      <th>2</th>\n",
       "      <td>0.6</td>\n",
       "      <td>0.4</td>\n",
       "      <td>0.3</td>\n",
       "      <td>0.3</td>\n",
       "      <td>0.4</td>\n",
       "      <td>0.6</td>\n",
       "      <td>1.0</td>\n",
       "    </tr>\n",
       "    <tr>\n",
       "      <th>3</th>\n",
       "      <td>0.3</td>\n",
       "      <td>0.5</td>\n",
       "      <td>0.2</td>\n",
       "      <td>0.1</td>\n",
       "      <td>0.3</td>\n",
       "      <td>0.5</td>\n",
       "      <td>0.0</td>\n",
       "    </tr>\n",
       "    <tr>\n",
       "      <th>4</th>\n",
       "      <td>0.7</td>\n",
       "      <td>0.6</td>\n",
       "      <td>0.7</td>\n",
       "      <td>0.8</td>\n",
       "      <td>0.9</td>\n",
       "      <td>0.5</td>\n",
       "      <td>2.0</td>\n",
       "    </tr>\n",
       "    <tr>\n",
       "      <th>...</th>\n",
       "      <td>...</td>\n",
       "      <td>...</td>\n",
       "      <td>...</td>\n",
       "      <td>...</td>\n",
       "      <td>...</td>\n",
       "      <td>...</td>\n",
       "      <td>...</td>\n",
       "    </tr>\n",
       "    <tr>\n",
       "      <th>495</th>\n",
       "      <td>0.4</td>\n",
       "      <td>0.3</td>\n",
       "      <td>0.1</td>\n",
       "      <td>0.4</td>\n",
       "      <td>0.2</td>\n",
       "      <td>0.5</td>\n",
       "      <td>0.0</td>\n",
       "    </tr>\n",
       "    <tr>\n",
       "      <th>496</th>\n",
       "      <td>0.4</td>\n",
       "      <td>0.6</td>\n",
       "      <td>0.5</td>\n",
       "      <td>0.6</td>\n",
       "      <td>0.5</td>\n",
       "      <td>0.4</td>\n",
       "      <td>1.0</td>\n",
       "    </tr>\n",
       "    <tr>\n",
       "      <th>497</th>\n",
       "      <td>0.7</td>\n",
       "      <td>0.5</td>\n",
       "      <td>0.8</td>\n",
       "      <td>0.9</td>\n",
       "      <td>0.8</td>\n",
       "      <td>0.5</td>\n",
       "      <td>1.0</td>\n",
       "    </tr>\n",
       "    <tr>\n",
       "      <th>498</th>\n",
       "      <td>0.3</td>\n",
       "      <td>0.5</td>\n",
       "      <td>0.4</td>\n",
       "      <td>0.6</td>\n",
       "      <td>0.6</td>\n",
       "      <td>0.6</td>\n",
       "      <td>1.0</td>\n",
       "    </tr>\n",
       "    <tr>\n",
       "      <th>499</th>\n",
       "      <td>0.7</td>\n",
       "      <td>0.7</td>\n",
       "      <td>0.8</td>\n",
       "      <td>0.6</td>\n",
       "      <td>0.8</td>\n",
       "      <td>0.6</td>\n",
       "      <td>2.0</td>\n",
       "    </tr>\n",
       "  </tbody>\n",
       "</table>\n",
       "<p>500 rows × 7 columns</p>\n",
       "</div>"
      ],
      "text/plain": [
       "     Language_vocab  Memory  Speed  Visual_discrimination  \\\n",
       "0               0.5     0.6    0.5                    0.8   \n",
       "1               0.6     0.7    0.8                    0.9   \n",
       "2               0.6     0.4    0.3                    0.3   \n",
       "3               0.3     0.5    0.2                    0.1   \n",
       "4               0.7     0.6    0.7                    0.8   \n",
       "..              ...     ...    ...                    ...   \n",
       "495             0.4     0.3    0.1                    0.4   \n",
       "496             0.4     0.6    0.5                    0.6   \n",
       "497             0.7     0.5    0.8                    0.9   \n",
       "498             0.3     0.5    0.4                    0.6   \n",
       "499             0.7     0.7    0.8                    0.6   \n",
       "\n",
       "     Audio_Discrimination  Survey_Score  Label  \n",
       "0                     0.6           0.7    1.0  \n",
       "1                     0.5           0.8    2.0  \n",
       "2                     0.4           0.6    1.0  \n",
       "3                     0.3           0.5    0.0  \n",
       "4                     0.9           0.5    2.0  \n",
       "..                    ...           ...    ...  \n",
       "495                   0.2           0.5    0.0  \n",
       "496                   0.5           0.4    1.0  \n",
       "497                   0.8           0.5    1.0  \n",
       "498                   0.6           0.6    1.0  \n",
       "499                   0.8           0.6    2.0  \n",
       "\n",
       "[500 rows x 7 columns]"
      ]
     },
     "execution_count": 2,
     "metadata": {},
     "output_type": "execute_result"
    }
   ],
   "source": [
    "data=pd.read_csv('labelled_data_new.csv')\n",
    "y=data.Label\n",
    "X=data.drop(['Label'],axis=1)\n",
    "data"
   ]
  },
  {
   "cell_type": "code",
   "execution_count": 3,
   "metadata": {},
   "outputs": [],
   "source": [
    "prec=[0,0,0,0,0]\n",
    "rec=[0,0,0,0,0]\n",
    "f1=[0,0,0,0,0]"
   ]
  },
  {
   "cell_type": "code",
   "execution_count": 4,
   "metadata": {},
   "outputs": [],
   "source": [
    "X_train,X_test,y_train,y_test=train_test_split(X,y,test_size=0.7,random_state=10)"
   ]
  },
  {
   "cell_type": "code",
   "execution_count": 5,
   "metadata": {},
   "outputs": [],
   "source": [
    "X_test2=X_test.copy()"
   ]
  },
  {
   "cell_type": "code",
   "execution_count": 6,
   "metadata": {},
   "outputs": [
    {
     "data": {
      "text/plain": [
       "array([[-0.34038599,  0.11560035,  0.63822535,  1.14716531,  0.62539939,\n",
       "         0.52455605],\n",
       "       [ 2.16245217,  0.57191753, -0.26068359,  0.19384234,  0.12905067,\n",
       "         0.52455605],\n",
       "       [ 0.16018164,  0.11560035,  0.18877088, -1.23614212, -0.36729805,\n",
       "         0.06709438],\n",
       "       ...,\n",
       "       [ 0.16018164, -0.34071682, -0.26068359,  2.10048828,  0.62539939,\n",
       "         0.52455605],\n",
       "       [-0.34038599,  1.0282347 ,  1.98658875,  0.19384234, -0.36729805,\n",
       "        -0.39036729],\n",
       "       [ 0.16018164,  1.94086905,  1.08767981,  1.62382679,  1.61809683,\n",
       "        -0.39036729]])"
      ]
     },
     "execution_count": 6,
     "metadata": {},
     "output_type": "execute_result"
    }
   ],
   "source": [
    "sc=StandardScaler(copy=False)\n",
    "sc.fit_transform(X_train)\n",
    "sc.transform(X_test)"
   ]
  },
  {
   "cell_type": "code",
   "execution_count": 7,
   "metadata": {},
   "outputs": [
    {
     "data": {
      "text/html": [
       "<div>\n",
       "<style scoped>\n",
       "    .dataframe tbody tr th:only-of-type {\n",
       "        vertical-align: middle;\n",
       "    }\n",
       "\n",
       "    .dataframe tbody tr th {\n",
       "        vertical-align: top;\n",
       "    }\n",
       "\n",
       "    .dataframe thead th {\n",
       "        text-align: right;\n",
       "    }\n",
       "</style>\n",
       "<table border=\"1\" class=\"dataframe\">\n",
       "  <thead>\n",
       "    <tr style=\"text-align: right;\">\n",
       "      <th></th>\n",
       "      <th>Language_vocab</th>\n",
       "      <th>Memory</th>\n",
       "      <th>Speed</th>\n",
       "      <th>Visual_discrimination</th>\n",
       "      <th>Audio_Discrimination</th>\n",
       "      <th>Survey_Score</th>\n",
       "    </tr>\n",
       "  </thead>\n",
       "  <tbody>\n",
       "    <tr>\n",
       "      <th>67</th>\n",
       "      <td>1.661885</td>\n",
       "      <td>1.484552</td>\n",
       "      <td>0.638225</td>\n",
       "      <td>1.147165</td>\n",
       "      <td>1.121748</td>\n",
       "      <td>0.067094</td>\n",
       "    </tr>\n",
       "    <tr>\n",
       "      <th>322</th>\n",
       "      <td>-0.840954</td>\n",
       "      <td>-0.797034</td>\n",
       "      <td>0.188771</td>\n",
       "      <td>-0.282819</td>\n",
       "      <td>-0.863647</td>\n",
       "      <td>-0.390367</td>\n",
       "    </tr>\n",
       "    <tr>\n",
       "      <th>96</th>\n",
       "      <td>0.160182</td>\n",
       "      <td>0.571918</td>\n",
       "      <td>0.188771</td>\n",
       "      <td>0.193842</td>\n",
       "      <td>0.129051</td>\n",
       "      <td>0.524556</td>\n",
       "    </tr>\n",
       "    <tr>\n",
       "      <th>22</th>\n",
       "      <td>2.162452</td>\n",
       "      <td>1.028235</td>\n",
       "      <td>1.537134</td>\n",
       "      <td>-0.282819</td>\n",
       "      <td>0.625399</td>\n",
       "      <td>0.982018</td>\n",
       "    </tr>\n",
       "    <tr>\n",
       "      <th>254</th>\n",
       "      <td>-0.340386</td>\n",
       "      <td>-0.340717</td>\n",
       "      <td>0.188771</td>\n",
       "      <td>-0.759481</td>\n",
       "      <td>-0.367298</td>\n",
       "      <td>0.067094</td>\n",
       "    </tr>\n",
       "    <tr>\n",
       "      <th>...</th>\n",
       "      <td>...</td>\n",
       "      <td>...</td>\n",
       "      <td>...</td>\n",
       "      <td>...</td>\n",
       "      <td>...</td>\n",
       "      <td>...</td>\n",
       "    </tr>\n",
       "    <tr>\n",
       "      <th>320</th>\n",
       "      <td>0.660749</td>\n",
       "      <td>0.115600</td>\n",
       "      <td>1.537134</td>\n",
       "      <td>-0.282819</td>\n",
       "      <td>1.121748</td>\n",
       "      <td>0.982018</td>\n",
       "    </tr>\n",
       "    <tr>\n",
       "      <th>15</th>\n",
       "      <td>0.160182</td>\n",
       "      <td>-0.340717</td>\n",
       "      <td>-0.260684</td>\n",
       "      <td>-0.282819</td>\n",
       "      <td>-0.863647</td>\n",
       "      <td>-0.847829</td>\n",
       "    </tr>\n",
       "    <tr>\n",
       "      <th>484</th>\n",
       "      <td>-0.340386</td>\n",
       "      <td>-0.340717</td>\n",
       "      <td>-0.260684</td>\n",
       "      <td>0.670504</td>\n",
       "      <td>-0.863647</td>\n",
       "      <td>0.524556</td>\n",
       "    </tr>\n",
       "    <tr>\n",
       "      <th>125</th>\n",
       "      <td>-0.340386</td>\n",
       "      <td>-0.340717</td>\n",
       "      <td>0.188771</td>\n",
       "      <td>0.193842</td>\n",
       "      <td>-0.863647</td>\n",
       "      <td>-0.390367</td>\n",
       "    </tr>\n",
       "    <tr>\n",
       "      <th>265</th>\n",
       "      <td>-0.840954</td>\n",
       "      <td>0.571918</td>\n",
       "      <td>0.638225</td>\n",
       "      <td>-0.759481</td>\n",
       "      <td>0.129051</td>\n",
       "      <td>0.067094</td>\n",
       "    </tr>\n",
       "  </tbody>\n",
       "</table>\n",
       "<p>150 rows × 6 columns</p>\n",
       "</div>"
      ],
      "text/plain": [
       "     Language_vocab    Memory     Speed  Visual_discrimination  \\\n",
       "67         1.661885  1.484552  0.638225               1.147165   \n",
       "322       -0.840954 -0.797034  0.188771              -0.282819   \n",
       "96         0.160182  0.571918  0.188771               0.193842   \n",
       "22         2.162452  1.028235  1.537134              -0.282819   \n",
       "254       -0.340386 -0.340717  0.188771              -0.759481   \n",
       "..              ...       ...       ...                    ...   \n",
       "320        0.660749  0.115600  1.537134              -0.282819   \n",
       "15         0.160182 -0.340717 -0.260684              -0.282819   \n",
       "484       -0.340386 -0.340717 -0.260684               0.670504   \n",
       "125       -0.340386 -0.340717  0.188771               0.193842   \n",
       "265       -0.840954  0.571918  0.638225              -0.759481   \n",
       "\n",
       "     Audio_Discrimination  Survey_Score  \n",
       "67               1.121748      0.067094  \n",
       "322             -0.863647     -0.390367  \n",
       "96               0.129051      0.524556  \n",
       "22               0.625399      0.982018  \n",
       "254             -0.367298      0.067094  \n",
       "..                    ...           ...  \n",
       "320              1.121748      0.982018  \n",
       "15              -0.863647     -0.847829  \n",
       "484             -0.863647      0.524556  \n",
       "125             -0.863647     -0.390367  \n",
       "265              0.129051      0.067094  \n",
       "\n",
       "[150 rows x 6 columns]"
      ]
     },
     "execution_count": 7,
     "metadata": {},
     "output_type": "execute_result"
    }
   ],
   "source": [
    "X_train"
   ]
  },
  {
   "cell_type": "code",
   "execution_count": 18,
   "metadata": {},
   "outputs": [
    {
     "name": "stdout",
     "output_type": "stream",
     "text": [
      "SVM with linear kernel - Precision = 0.905, Recall = 0.935, F1-score = 0.919\n"
     ]
    }
   ],
   "source": [
    "clf=SVC(kernel='linear')\n",
    "clf.fit(X_train,y_train)\n",
    "pre=clf.predict(X_test)\n",
    "prec[0],rec[0],f1[0],_=precision_recall_fscore_support(y_test,pre,average='macro')\n",
    "print(\"SVM with linear kernel - Precision = %0.3f, Recall = %0.3f,\n",
    "      F1-score = %0.3f\" %(prec[0],rec[0],f1[0]))"
   ]
  },
  {
   "cell_type": "code",
   "execution_count": 17,
   "metadata": {},
   "outputs": [
    {
     "name": "stdout",
     "output_type": "stream",
     "text": [
      "SVM with rbf kernel - Precision = 0.909, Recall = 0.942, F1-score = 0.923\n"
     ]
    }
   ],
   "source": [
    "clf2=SVC(kernel='rbf')\n",
    "clf2.fit(X_train,y_train)\n",
    "pre2=clf2.predict(X_test)\n",
    "prec[1],rec[1],f1[1],_=precision_recall_fscore_support(y_test,pre2,average='macro')\n",
    "print(\"SVM with rbf kernel - Precision = %0.3f, Recall = %0.3f, F1-score = %0.3f\"\n",
    "      %(prec[1],rec[1],f1[1]))"
   ]
  },
  {
   "cell_type": "code",
   "execution_count": 13,
   "metadata": {},
   "outputs": [
    {
     "name": "stdout",
     "output_type": "stream",
     "text": [
      "Best parameters set found on development set:\n",
      "{'C': 1000, 'gamma': 0.001, 'kernel': 'rbf'}\n"
     ]
    }
   ],
   "source": [
    "tuned_parameters = [{'kernel': ['rbf'], 'gamma': [1e-3, 1e-4],\n",
    "                     'C': [1, 10, 100, 1000]},\n",
    "                    {'kernel': ['linear'], 'C': [1, 10, 100, 1000]}]\n",
    "clf3 = GridSearchCV(SVC(), tuned_parameters,scoring='f1_macro')\n",
    "clf3.fit(X_train, y_train)\n",
    "print(\"Best parameters set found on development set:\")\n",
    "print(clf3.best_params_)"
   ]
  },
  {
   "cell_type": "code",
   "execution_count": 14,
   "metadata": {},
   "outputs": [
    {
     "name": "stdout",
     "output_type": "stream",
     "text": [
      "0.234 for {'C': 1, 'gamma': 0.001, 'kernel': 'rbf'}\n",
      "0.234 for {'C': 1, 'gamma': 0.0001, 'kernel': 'rbf'}\n",
      "0.909 for {'C': 10, 'gamma': 0.001, 'kernel': 'rbf'}\n",
      "0.234 for {'C': 10, 'gamma': 0.0001, 'kernel': 'rbf'}\n",
      "0.947 for {'C': 100, 'gamma': 0.001, 'kernel': 'rbf'}\n",
      "0.909 for {'C': 100, 'gamma': 0.0001, 'kernel': 'rbf'}\n",
      "0.953 for {'C': 1000, 'gamma': 0.001, 'kernel': 'rbf'}\n",
      "0.947 for {'C': 1000, 'gamma': 0.0001, 'kernel': 'rbf'}\n",
      "0.942 for {'C': 1, 'kernel': 'linear'}\n",
      "0.941 for {'C': 10, 'kernel': 'linear'}\n",
      "0.930 for {'C': 100, 'kernel': 'linear'}\n",
      "0.930 for {'C': 1000, 'kernel': 'linear'}\n"
     ]
    }
   ],
   "source": [
    "means = clf3.cv_results_['mean_test_score']\n",
    "for mean, params in zip(means, clf3.cv_results_['params']):\n",
    "        print(\"%0.3f for %r\"% (mean, params))"
   ]
  },
  {
   "cell_type": "code",
   "execution_count": 16,
   "metadata": {},
   "outputs": [
    {
     "name": "stdout",
     "output_type": "stream",
     "text": [
      "Gridsearch with SVM - Precision = 0.919, Recall = 0.949, F1-score = 0.933\n"
     ]
    }
   ],
   "source": [
    "pre3=clf3.predict(X_test)\n",
    "prec[2],rec[2],f1[2],_=precision_recall_fscore_support(y_test,pre3,average='macro')\n",
    "print(\"Gridsearch with SVM - Precision = %0.3f, Recall = %0.3f, F1-score = %0.3f\"\n",
    "      %(prec[2],rec[2],f1[2]))"
   ]
  },
  {
   "cell_type": "code",
   "execution_count": 19,
   "metadata": {},
   "outputs": [
    {
     "name": "stdout",
     "output_type": "stream",
     "text": [
      "Random forest classifier - Precision = 0.904, Recall = 0.896, F1-score = 0.899\n"
     ]
    }
   ],
   "source": [
    "clf4=RandomForestClassifier(random_state=0)\n",
    "clf4.fit(X_train,y_train)\n",
    "pre4=clf4.predict(X_test)\n",
    "prec[3],rec[3],f1[3],_=precision_recall_fscore_support(y_test,pre4,average='macro')\n",
    "print(\"Random forest classifier - Precision = %0.3f, Recall = %0.3f,\n",
    "      F1-score = %0.3f\" %(prec[3],rec[3],f1[3]))"
   ]
  },
  {
   "cell_type": "code",
   "execution_count": 20,
   "metadata": {},
   "outputs": [
    {
     "name": "stdout",
     "output_type": "stream",
     "text": [
      "Best parameters set found on development set:\n",
      "{'n_estimators': 1000}\n"
     ]
    }
   ],
   "source": [
    "param2={'n_estimators' : [10,100,500,1000]}\n",
    "clf5=GridSearchCV(RandomForestClassifier(random_state=0),param2,scoring='f1_macro')\n",
    "clf5.fit(X_train,y_train)\n",
    "print(\"Best parameters set found on development set:\")\n",
    "print(clf5.best_params_)"
   ]
  },
  {
   "cell_type": "code",
   "execution_count": 21,
   "metadata": {
    "scrolled": true
   },
   "outputs": [
    {
     "name": "stdout",
     "output_type": "stream",
     "text": [
      "0.893 for {'n_estimators': 10}\n",
      "0.932 for {'n_estimators': 100}\n",
      "0.929 for {'n_estimators': 500}\n",
      "0.935 for {'n_estimators': 1000}\n"
     ]
    }
   ],
   "source": [
    "means1 = clf5.cv_results_['mean_test_score']\n",
    "for mean1, params1 in zip(means1, clf5.cv_results_['params']):\n",
    "        print(\"%0.3f for %r\"% (mean1, params1))"
   ]
  },
  {
   "cell_type": "code",
   "execution_count": 23,
   "metadata": {},
   "outputs": [
    {
     "name": "stdout",
     "output_type": "stream",
     "text": [
      "Gridsearch with Random forst classifier - Precision = 0.904, Recall = 0.919, F1-score = 0.911\n"
     ]
    }
   ],
   "source": [
    "pre5=clf5.predict(X_test)\n",
    "prec[4],rec[4],f1[4],_=precision_recall_fscore_support(y_test,pre5,average='macro')\n",
    "print(\"Gridsearch with Random forst classifier - Precision = %0.3f, Recall = %0.3f,\n",
    "      F1-score = %0.3f\" %(prec[4],rec[4],f1[4]))"
   ]
  },
  {
   "cell_type": "code",
   "execution_count": 35,
   "metadata": {},
   "outputs": [
    {
     "data": {
      "text/plain": [
       "<matplotlib.axes._subplots.AxesSubplot at 0x259817a3088>"
      ]
     },
     "execution_count": 35,
     "metadata": {},
     "output_type": "execute_result"
    },
    {
     "data": {
      "image/png": "[encoded data removed]",
      "text/plain": [
       "<Figure size 1080x360 with 1 Axes>"
      ]
     },
     "metadata": {
      "needs_background": "light"
     },
     "output_type": "display_data"
    }
   ],
   "source": [
    "plt.figure(figsize=(15,5))\n",
    "sns.lineplot(x=['SVM linear ','SVM rbf','SVM grid search','RandomForest','RandomForest gridsearch'],y=prec,label='precision')\n",
    "sns.lineplot(x=['SVM linear ','SVM rbf','SVM grid search','RandomForest','RandomForest gridsearch'],y=rec,label='recall')\n",
    "sns.lineplot(x=['SVM linear ','SVM rbf','SVM grid search','RandomForest','RandomForest gridsearch'],y=f1,label='f1-score')"
   ]
  },
  {
   "cell_type": "code",
   "execution_count": 32,
   "metadata": {},
   "outputs": [
    {
     "data": {
      "text/html": [
       "<div>\n",
       "<style scoped>\n",
       "    .dataframe tbody tr th:only-of-type {\n",
       "        vertical-align: middle;\n",
       "    }\n",
       "\n",
       "    .dataframe tbody tr th {\n",
       "        vertical-align: top;\n",
       "    }\n",
       "\n",
       "    .dataframe thead th {\n",
       "        text-align: right;\n",
       "    }\n",
       "</style>\n",
       "<table border=\"1\" class=\"dataframe\">\n",
       "  <thead>\n",
       "    <tr style=\"text-align: right;\">\n",
       "      <th></th>\n",
       "      <th>Language_vocab</th>\n",
       "      <th>Memory</th>\n",
       "      <th>Speed</th>\n",
       "      <th>Visual_discrimination</th>\n",
       "      <th>Audio_Discrimination</th>\n",
       "      <th>Survey_Score</th>\n",
       "      <th>Label</th>\n",
       "    </tr>\n",
       "  </thead>\n",
       "  <tbody>\n",
       "    <tr>\n",
       "      <th>151</th>\n",
       "      <td>0.5</td>\n",
       "      <td>0.6</td>\n",
       "      <td>0.7</td>\n",
       "      <td>0.8</td>\n",
       "      <td>0.7</td>\n",
       "      <td>0.7</td>\n",
       "      <td>1.0</td>\n",
       "    </tr>\n",
       "    <tr>\n",
       "      <th>424</th>\n",
       "      <td>1.0</td>\n",
       "      <td>0.7</td>\n",
       "      <td>0.5</td>\n",
       "      <td>0.6</td>\n",
       "      <td>0.6</td>\n",
       "      <td>0.7</td>\n",
       "      <td>2.0</td>\n",
       "    </tr>\n",
       "    <tr>\n",
       "      <th>154</th>\n",
       "      <td>0.6</td>\n",
       "      <td>0.6</td>\n",
       "      <td>0.6</td>\n",
       "      <td>0.3</td>\n",
       "      <td>0.5</td>\n",
       "      <td>0.6</td>\n",
       "      <td>1.0</td>\n",
       "    </tr>\n",
       "    <tr>\n",
       "      <th>190</th>\n",
       "      <td>0.3</td>\n",
       "      <td>0.3</td>\n",
       "      <td>0.5</td>\n",
       "      <td>0.5</td>\n",
       "      <td>0.6</td>\n",
       "      <td>0.7</td>\n",
       "      <td>1.0</td>\n",
       "    </tr>\n",
       "    <tr>\n",
       "      <th>131</th>\n",
       "      <td>0.3</td>\n",
       "      <td>0.3</td>\n",
       "      <td>0.3</td>\n",
       "      <td>0.2</td>\n",
       "      <td>0.4</td>\n",
       "      <td>0.2</td>\n",
       "      <td>0.0</td>\n",
       "    </tr>\n",
       "    <tr>\n",
       "      <th>...</th>\n",
       "      <td>...</td>\n",
       "      <td>...</td>\n",
       "      <td>...</td>\n",
       "      <td>...</td>\n",
       "      <td>...</td>\n",
       "      <td>...</td>\n",
       "      <td>...</td>\n",
       "    </tr>\n",
       "    <tr>\n",
       "      <th>445</th>\n",
       "      <td>0.3</td>\n",
       "      <td>0.3</td>\n",
       "      <td>0.3</td>\n",
       "      <td>0.4</td>\n",
       "      <td>0.3</td>\n",
       "      <td>0.0</td>\n",
       "      <td>0.0</td>\n",
       "    </tr>\n",
       "    <tr>\n",
       "      <th>443</th>\n",
       "      <td>0.2</td>\n",
       "      <td>0.3</td>\n",
       "      <td>0.2</td>\n",
       "      <td>0.2</td>\n",
       "      <td>0.3</td>\n",
       "      <td>0.3</td>\n",
       "      <td>0.0</td>\n",
       "    </tr>\n",
       "    <tr>\n",
       "      <th>399</th>\n",
       "      <td>0.6</td>\n",
       "      <td>0.5</td>\n",
       "      <td>0.5</td>\n",
       "      <td>1.0</td>\n",
       "      <td>0.7</td>\n",
       "      <td>0.7</td>\n",
       "      <td>1.0</td>\n",
       "    </tr>\n",
       "    <tr>\n",
       "      <th>82</th>\n",
       "      <td>0.5</td>\n",
       "      <td>0.8</td>\n",
       "      <td>1.0</td>\n",
       "      <td>0.6</td>\n",
       "      <td>0.5</td>\n",
       "      <td>0.5</td>\n",
       "      <td>1.0</td>\n",
       "    </tr>\n",
       "    <tr>\n",
       "      <th>95</th>\n",
       "      <td>0.6</td>\n",
       "      <td>1.0</td>\n",
       "      <td>0.8</td>\n",
       "      <td>0.9</td>\n",
       "      <td>0.9</td>\n",
       "      <td>0.5</td>\n",
       "      <td>2.0</td>\n",
       "    </tr>\n",
       "  </tbody>\n",
       "</table>\n",
       "<p>350 rows × 7 columns</p>\n",
       "</div>"
      ],
      "text/plain": [
       "     Language_vocab  Memory  Speed  Visual_discrimination  \\\n",
       "151             0.5     0.6    0.7                    0.8   \n",
       "424             1.0     0.7    0.5                    0.6   \n",
       "154             0.6     0.6    0.6                    0.3   \n",
       "190             0.3     0.3    0.5                    0.5   \n",
       "131             0.3     0.3    0.3                    0.2   \n",
       "..              ...     ...    ...                    ...   \n",
       "445             0.3     0.3    0.3                    0.4   \n",
       "443             0.2     0.3    0.2                    0.2   \n",
       "399             0.6     0.5    0.5                    1.0   \n",
       "82              0.5     0.8    1.0                    0.6   \n",
       "95              0.6     1.0    0.8                    0.9   \n",
       "\n",
       "     Audio_Discrimination  Survey_Score  Label  \n",
       "151                   0.7           0.7    1.0  \n",
       "424                   0.6           0.7    2.0  \n",
       "154                   0.5           0.6    1.0  \n",
       "190                   0.6           0.7    1.0  \n",
       "131                   0.4           0.2    0.0  \n",
       "..                    ...           ...    ...  \n",
       "445                   0.3           0.0    0.0  \n",
       "443                   0.3           0.3    0.0  \n",
       "399                   0.7           0.7    1.0  \n",
       "82                    0.5           0.5    1.0  \n",
       "95                    0.9           0.5    2.0  \n",
       "\n",
       "[350 rows x 7 columns]"
      ]
     },
     "execution_count": 32,
     "metadata": {},
     "output_type": "execute_result"
    }
   ],
   "source": [
    "pd.concat([X_test2,y_test],axis=1)"
   ]
  },
  {
   "cell_type": "code",
   "execution_count": 33,
   "metadata": {},
   "outputs": [
    {
     "data": {
      "text/plain": [
       "151    1.0\n",
       "424    2.0\n",
       "154    1.0\n",
       "190    1.0\n",
       "131    0.0\n",
       "      ... \n",
       "445    0.0\n",
       "443    0.0\n",
       "399    1.0\n",
       "82     2.0\n",
       "95     2.0\n",
       "Length: 350, dtype: float64"
      ]
     },
     "execution_count": 33,
     "metadata": {},
     "output_type": "execute_result"
    }
   ],
   "source": [
    "pd.Series(pre3,index=X_test.index)"
   ]
  },
  {
   "cell_type": "code",
   "execution_count": null,
   "metadata": {},
   "outputs": [],
   "source": []
  },
  {
   "cell_type": "code",
   "execution_count": null,
   "metadata": {},
   "outputs": [],
   "source": []
  }
 ],
 "metadata": {
  "kernelspec": {
   "display_name": "Python 3",
   "language": "python",
   "name": "python3"
  },
  "language_info": {
   "codemirror_mode": {
    "name": "ipython",
    "version": 3
   },
   "file_extension": ".py",
   "mimetype": "text/x-python",
   "name": "python",
   "nbconvert_exporter": "python",
   "pygments_lexer": "ipython3",
   "version": "3.7.6"
  }
 },
 "nbformat": 4,
 "nbformat_minor": 4
}
